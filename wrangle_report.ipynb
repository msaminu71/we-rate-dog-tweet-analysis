{
 "cells": [
  {
   "cell_type": "markdown",
   "metadata": {},
   "source": [
    "## Reporting: wragle_report"
   ]
  },
  {
   "cell_type": "markdown",
   "metadata": {},
   "source": [
    "### Gather\n"
   ]
  },
  {
   "cell_type": "markdown",
   "metadata": {},
   "source": [
    "The appropriate libraries were import before commencing the analysis. The libraries included pandas for the dataframe operations, numpy for data manipulation, matplotlib for visualization, request for web scraping and os to access local drive.\n",
    "The three datasets were loaded in the following ways, the twitter archive was imported using the provided file while the image prediction dataset was imported by web scraping. Due difficulty in attaining approval for twitter API, the json file provided by the organisers was utilized."
   ]
  },
  {
   "cell_type": "markdown",
   "metadata": {},
   "source": [
    "### Assess"
   ]
  },
  {
   "cell_type": "markdown",
   "metadata": {},
   "source": [
    "The three datasets were assessed both visually and programmatically for quality and tidiness issues.\n",
    "The following issues were noted for subsequent cleaning.\n",
    "    1. The presence of retweets in the twitter archive dataset.\n",
    "    2. Presence of replies in the archive dataset.\n",
    "    3. After removal of rows with replies and retweets, there were columns without values.\n",
    "    4. tweet_id in all datasets was in int64.\n",
    "    5. The dog stages were put in 4 seperate columns.\n",
    "    6. Rating denominator had values below 10.\n",
    "    7. Rating numerator had values below 10.\n",
    "    8. Empty values for dog stages not null.\n",
    "    9. Dog stages should be categorical not object.\n",
    "    10. The datasets should be fused to one.\n",
    "    11. Some values in the dog_stage column are not comprehensible."
   ]
  },
  {
   "cell_type": "markdown",
   "metadata": {},
   "source": [
    "### Clean"
   ]
  },
  {
   "cell_type": "markdown",
   "metadata": {},
   "source": [
    "After the quality and tidiness issues were outlined, they were addressed accordingly. A dog_stage column was created in the archive dataset to contain all the dog stages provided, then the previous stage columns were dropped. All tweets with retweets and replies in the archive table were dropped as well as the columns associated with the retweets and replies.\n",
    "Datatypes were corrected in the tweet_id columns of all datasets, dog_stage column was also corrected to categorical. Rating denominators less than 10 were replaced by 10 as minimum while all tweets with rating numerator less than 10 were dropped. Furthermore, the names in the dog_stage column were corrected to make them more understandable.\n",
    "Finally, all three datasets were merged on tweet_id to form a final dataset for analysis."
   ]
  },
  {
   "cell_type": "code",
   "execution_count": null,
   "metadata": {},
   "outputs": [],
   "source": []
  }
 ],
 "metadata": {
  "kernelspec": {
   "display_name": "Python 3",
   "language": "python",
   "name": "python3"
  },
  "language_info": {
   "codemirror_mode": {
    "name": "ipython",
    "version": 3
   },
   "file_extension": ".py",
   "mimetype": "text/x-python",
   "name": "python",
   "nbconvert_exporter": "python",
   "pygments_lexer": "ipython3",
   "version": "3.6.3"
  }
 },
 "nbformat": 4,
 "nbformat_minor": 2
}
